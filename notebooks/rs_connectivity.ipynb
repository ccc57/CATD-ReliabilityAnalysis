{
 "cells": [
  {
   "cell_type": "code",
   "execution_count": null,
   "id": "b165d47a",
   "metadata": {},
   "outputs": [],
   "source": [
    "#This code works and was originally used to construct the connectivity matrices on Farnam (7/12/2022). However, the most up to date \n",
    "#dataset for MDD TRT was processed by Dylan at the NIH\n",
    "#We also used this code to generate the Schaefer connectomes for the revision"
   ]
  },
  {
   "cell_type": "code",
   "execution_count": 1,
   "id": "28e2a482",
   "metadata": {},
   "outputs": [
    {
     "name": "stderr",
     "output_type": "stream",
     "text": [
      "/tmp/ipykernel_23124/2479951448.py:19: DeprecationWarning: Importing display from IPython.core.display is deprecated since IPython 7.14, please import from IPython display\n",
      "  from IPython.core.display import display, HTML\n"
     ]
    },
    {
     "data": {
      "text/html": [
       "<style>#notebook { padding-top:0px !important; } .container { width:100% !important; } .end_space { min-height:0px !important; } </style>"
      ],
      "text/plain": [
       "<IPython.core.display.HTML object>"
      ]
     },
     "metadata": {},
     "output_type": "display_data"
    }
   ],
   "source": [
    "from pathlib import Path\n",
    "from nilearn import datasets, image, plotting, masking\n",
    "from bids import BIDSLayout\n",
    "from ast import literal_eval\n",
    "from io import StringIO\n",
    "import os\n",
    "import numpy as np\n",
    "import pandas as pd\n",
    "import matplotlib.pyplot as plt\n",
    "import ast\n",
    "\n",
    "\n",
    "%matplotlib inline\n",
    "pd.set_option('display.max_rows', 500)\n",
    "pd.set_option('display.max_columns', 500)\n",
    "pd.set_option('display.max_colwidth', 500)\n",
    "pd.set_option('display.width', 1000)\n",
    "\n",
    "from IPython.core.display import display, HTML\n",
    "display(HTML(\"<style>\"\n",
    "    + \"#notebook { padding-top:0px !important; } \" \n",
    "    + \".container { width:100% !important; } \"\n",
    "    + \".end_space { min-height:0px !important; } \"\n",
    "    + \"</style>\"))"
   ]
  },
  {
   "cell_type": "code",
   "execution_count": 41,
   "id": "b89ad425",
   "metadata": {},
   "outputs": [],
   "source": [
    "project_root = Path('/home/ccc98/Documents/CATD-ReliabilityAnalysis')\n",
    "ts_dir = project_root / 'data' / 'CATD' / 'derivatives' / 'ts_extract_allmodels'\n",
    "corr_dir = project_root / 'data' / 'processed' / 'connectomes'\n",
    "database_path = project_root / 'references' / 'rest_paths.csv'\n",
    "rest_paths = pd.read_csv(database_path)\n",
    "rest_paths = rest_paths[[col for col in rest_paths.columns if \"path\" not in col]]\n",
    "rest_paths['entities'] = rest_paths['entities'].apply(lambda x: literal_eval(x))"
   ]
  },
  {
   "cell_type": "code",
   "execution_count": 42,
   "id": "18afaa9c",
   "metadata": {},
   "outputs": [],
   "source": [
    "#Make sure to check for run = 1.0 vs. run = 1\n",
    "\n",
    "def make_path(ents, updates, pattern, mp_dir, check_exist=False):\n",
    "    mp_ents = ents.copy()\n",
    "    mp_ents.update(updates)\n",
    "    mp_file = mp_dir / ('sub-'+str(mp_ents['subject'])) / ('ses-'+mp_ents['session']) / ('sub-'+str(mp_ents['subject'])+'_ses-'+mp_ents['session']+'_task-'+mp_ents['task']+'_run-'+str(mp_ents['run'])+'_space-'+mp_ents['space']+'_desc-'+mp_ents['desc']+'_'+mp_ents['suffix']+'.'+mp_ents['extension'])\n",
    "    mp_file.parent.mkdir(exist_ok=True, parents=True)\n",
    "    if check_exist and not mp_file.exists():\n",
    "        print(f\"FileNotFound: {mp_file.as_posix()}\")\n",
    "#         raise FileNotFoundError(mp_file.as_posix())\n",
    "    return mp_file"
   ]
  },
  {
   "cell_type": "code",
   "execution_count": 43,
   "id": "662dbe62",
   "metadata": {
    "scrolled": true
   },
   "outputs": [],
   "source": [
    "#Make sure to check for run = 1.0 vs. run = 1\n",
    "\n",
    "# ts_pattern = 'sub-{subject}/ses-{session}/sub-{subject}_ses-{session}_task-{task}_run-{run}.0_space-{space}_desc-{desc}_{suffix}.{extension}'\n",
    "# notd_basc_nodlpfc_updates = {'task':'rest','desc':'notdBasc122_nodlpfc', 'suffix':'timeseries', 'extension':'csv'}\n",
    "# rest_paths['notd_basc_nodlpfc_path'] = rest_paths.entities.apply(lambda x: make_path(x,\n",
    "#                                                             notd_basc_nodlpfc_updates,\n",
    "#                                                             ts_pattern,\n",
    "#                                                             ts_dir,\n",
    "#                                                             check_exist=True))\n",
    "\n",
    "notd_basc_updates = {'task':'rest','desc':'notdBasc122', 'suffix':'timeseries', 'extension':'csv'}\n",
    "rest_paths['notd_basc_path'] = rest_paths.entities.apply(lambda x: make_path(x,\n",
    "                                                            notd_basc_updates,\n",
    "                                                            ts_pattern,\n",
    "                                                            ts_dir,\n",
    "                                                            check_exist=True))\n",
    "\n",
    "notdBasc122_wSchaeferdlpfc_updates = {'task':'rest','desc':'notdBasc122wSchaeferdlpfc', 'suffix':'timeseries', 'extension':'csv'}\n",
    "rest_paths['notd_basc_wSchaeferdlpfc_path'] = rest_paths.entities.apply(lambda x: make_path(x,\n",
    "                                                            notd_basc122_wSchaeferdlpfc_updates,\n",
    "                                                            ts_pattern,\n",
    "                                                            ts_dir,\n",
    "                                                            check_exist=True))\n",
    "\n",
    "notdSchaefer_updates = {'task':'rest','desc':'notdSchaefer400', 'suffix':'timeseries', 'extension':'csv'}\n",
    "rest_paths['notdSchaefer_path'] = rest_paths.entities.apply(lambda x: make_path(x,\n",
    "                                                            notdSchaefer_updates,\n",
    "                                                            ts_pattern,\n",
    "                                                            ts_dir,\n",
    "                                                            check_exist=True))\n",
    "\n",
    "notdSchaefersc_updates = {'task':'rest','desc':'notdSchaefer400sc', 'suffix':'timeseries', 'extension':'csv'}\n",
    "rest_paths['notdSchaefersc_path'] = rest_paths.entities.apply(lambda x: make_path(x,\n",
    "                                                            notdSchaefersc_updates,\n",
    "                                                            ts_pattern,\n",
    "                                                            ts_dir,\n",
    "                                                            check_exist=True))\n",
    "\n",
    "notdSchaeferscwdlpfc_updates = {'task':'rest','desc':'notdSchaefer400scwdlpfc', 'suffix':'timeseries', 'extension':'csv'}\n",
    "rest_paths['notdSchaeferscwdlpfc_path'] = rest_paths.entities.apply(lambda x: make_path(x,\n",
    "                                                            notdSchaeferscwdlpfc_updates,\n",
    "                                                            ts_pattern,\n",
    "                                                            ts_dir,\n",
    "                                                            check_exist=True))\n",
    "\n",
    "notdSchaeferwdlpfc_updates = {'task':'rest','desc':'notdSchaefer400wdlpfc', 'suffix':'timeseries', 'extension':'csv'}\n",
    "rest_paths['notdSchaeferwdlpfc_path'] = rest_paths.entities.apply(lambda x: make_path(x,\n",
    "                                                            notdSchaeferwdlpfc_updates,\n",
    "                                                            ts_pattern,\n",
    "                                                            ts_dir,\n",
    "                                                            check_exist=True))\n",
    "\n",
    "rest_corr_notdSchaefer_updates = {'task':'rest','desc':'notdSchaefer', 'suffix':'correlation', 'extension':'csv'}\n",
    "rest_paths['rest_corr_notdSchaefer_path'] = rest_paths.entities.apply(lambda x: make_path(x,\n",
    "                                                            rest_corr_notdSchaefer_updates,\n",
    "                                                            ts_pattern,\n",
    "                                                            corr_dir,\n",
    "                                                            check_exist=False))\n",
    "\n",
    "rest_corr_notd_basc_updates = {'task':'rest','desc':'notdBasc122', 'suffix':'correlation', 'extension':'csv'}\n",
    "rest_paths['rest_corr_notd_basc_path'] = rest_paths.entities.apply(lambda x: make_path(x,\n",
    "                                                            rest_corr_notd_basc_updates,\n",
    "                                                            ts_pattern,\n",
    "                                                            corr_dir,\n",
    "                                                            check_exist=False))\n",
    "\n",
    "rest_corr_notdSchaefersc_updates = {'task':'rest','desc':'notdSchaefersc', 'suffix':'correlation', 'extension':'csv'}\n",
    "rest_paths['rest_corr_notdSchaefersc_path'] = rest_paths.entities.apply(lambda x: make_path(x,\n",
    "                                                            rest_corr_notdSchaefersc_updates,\n",
    "                                                            ts_pattern,\n",
    "                                                            corr_dir,\n",
    "                                                            check_exist=False))\n",
    "\n",
    "\n"
   ]
  },
  {
   "cell_type": "code",
   "execution_count": 18,
   "id": "c01a3c63",
   "metadata": {},
   "outputs": [],
   "source": [
    "#Running on Farnam\n",
    "atlas_path = project_root / 'data/processed/atlases/basc_122_nearest_atlas.nii.gz'\n",
    "regions_extracted_img = image.load_img(str(atlas_path))"
   ]
  },
  {
   "cell_type": "code",
   "execution_count": 44,
   "id": "acb35d46",
   "metadata": {},
   "outputs": [],
   "source": [
    "rest_paths_back = rest_paths.copy()"
   ]
  },
  {
   "cell_type": "code",
   "execution_count": null,
   "id": "c834af69",
   "metadata": {},
   "outputs": [],
   "source": [
    "rest_paths.loc[rest_paths.exclude == True,:]"
   ]
  },
  {
   "cell_type": "code",
   "execution_count": 67,
   "id": "695be4a7",
   "metadata": {
    "scrolled": true,
    "tags": []
   },
   "outputs": [
    {
     "name": "stdout",
     "output_type": "stream",
     "text": [
      "550 550 0\n"
     ]
    },
    {
     "data": {
      "text/html": [
       "<div>\n",
       "<style scoped>\n",
       "    .dataframe tbody tr th:only-of-type {\n",
       "        vertical-align: middle;\n",
       "    }\n",
       "\n",
       "    .dataframe tbody tr th {\n",
       "        vertical-align: top;\n",
       "    }\n",
       "\n",
       "    .dataframe thead th {\n",
       "        text-align: right;\n",
       "    }\n",
       "</style>\n",
       "<table border=\"1\" class=\"dataframe\">\n",
       "  <thead>\n",
       "    <tr style=\"text-align: right;\">\n",
       "      <th></th>\n",
       "      <th>subject</th>\n",
       "      <th>run</th>\n",
       "      <th>suffix</th>\n",
       "      <th>session</th>\n",
       "      <th>task</th>\n",
       "      <th>note_bbr</th>\n",
       "      <th>usable_bbr</th>\n",
       "      <th>dn_action_bbr</th>\n",
       "      <th>note_sdc</th>\n",
       "      <th>usable_sdc</th>\n",
       "      <th>dn_action_sdc</th>\n",
       "      <th>usable</th>\n",
       "      <th>space</th>\n",
       "      <th>datatype</th>\n",
       "      <th>extension</th>\n",
       "      <th>motion_per_tr</th>\n",
       "      <th>motion_per_tr_pc</th>\n",
       "      <th>max_fd</th>\n",
       "      <th>max_fd_pc</th>\n",
       "      <th>pct_censored</th>\n",
       "      <th>nv</th>\n",
       "      <th>ms</th>\n",
       "      <th>has_phys</th>\n",
       "      <th>exclude</th>\n",
       "      <th>session_id</th>\n",
       "      <th>sex</th>\n",
       "      <th>group</th>\n",
       "      <th>age</th>\n",
       "      <th>scanner</th>\n",
       "      <th>inpatient</th>\n",
       "      <th>c_ksadsdx_offset</th>\n",
       "      <th>c_ksadsdx_dx_detailed</th>\n",
       "      <th>s_mfq_offset</th>\n",
       "      <th>s_mfq_tot</th>\n",
       "      <th>s_mfq_complete</th>\n",
       "      <th>s_shaps_offset</th>\n",
       "      <th>s_shaps_tot</th>\n",
       "      <th>s_shaps_binary_tot</th>\n",
       "      <th>s_shaps_complete</th>\n",
       "      <th>s_ari1w_offset</th>\n",
       "      <th>s_ari1w_tot</th>\n",
       "      <th>s_ari1w_complete</th>\n",
       "      <th>s_scared_offset</th>\n",
       "      <th>s_scared_tot</th>\n",
       "      <th>s_scared_complete</th>\n",
       "      <th>antidepressants</th>\n",
       "      <th>antipsychotics</th>\n",
       "      <th>anticonvulsants</th>\n",
       "      <th>ADHD_medication</th>\n",
       "      <th>antianxiety</th>\n",
       "      <th>other</th>\n",
       "      <th>no_meds</th>\n",
       "      <th>med_source</th>\n",
       "      <th>dropout</th>\n",
       "      <th>above_mfq_thresh</th>\n",
       "      <th>sub_ses</th>\n",
       "      <th>acq_dat</th>\n",
       "      <th>entities</th>\n",
       "      <th>file</th>\n",
       "      <th>subsample</th>\n",
       "      <th>n_sessions</th>\n",
       "      <th>echo1_et</th>\n",
       "      <th>echo2_et</th>\n",
       "      <th>echo3_et</th>\n",
       "      <th>echo4_et</th>\n",
       "      <th>echo1sample_exists</th>\n",
       "      <th>boldmask_exists</th>\n",
       "      <th>tedana_failed</th>\n",
       "      <th>sample_weight</th>\n",
       "      <th>notd_basc_path</th>\n",
       "      <th>notd_basc_wSchaeferdlpfc_path</th>\n",
       "      <th>notdSchaefer_path</th>\n",
       "      <th>notdSchaefersc_path</th>\n",
       "      <th>notdSchaeferscwdlpfc_path</th>\n",
       "      <th>notdSchaeferwdlpfc_path</th>\n",
       "      <th>rest_corr_notdSchaefer_path</th>\n",
       "      <th>rest_corr_notdBasc122_path</th>\n",
       "      <th>rest_corr_notdSchaefersc_path</th>\n",
       "    </tr>\n",
       "  </thead>\n",
       "  <tbody>\n",
       "  </tbody>\n",
       "</table>\n",
       "</div>"
      ],
      "text/plain": [
       "Empty DataFrame\n",
       "Columns: [subject, run, suffix, session, task, note_bbr, usable_bbr, dn_action_bbr, note_sdc, usable_sdc, dn_action_sdc, usable, space, datatype, extension, motion_per_tr, motion_per_tr_pc, max_fd, max_fd_pc, pct_censored, nv, ms, has_phys, exclude, session_id, sex, group, age, scanner, inpatient, c_ksadsdx_offset, c_ksadsdx_dx_detailed, s_mfq_offset, s_mfq_tot, s_mfq_complete, s_shaps_offset, s_shaps_tot, s_shaps_binary_tot, s_shaps_complete, s_ari1w_offset, s_ari1w_tot, s_ari1w_complete, s_scared_offset, s_scared_tot, s_scared_complete, antidepressants, antipsychotics, anticonvulsants, ADHD_medication, antianxiety, other, no_meds, med_source, dropout, above_mfq_thresh, sub_ses, acq_dat, entities, file, subsample, n_sessions, echo1_et, echo2_et, echo3_et, echo4_et, echo1sample_exists, boldmask_exists, tedana_failed, sample_weight, notd_basc_path, notd_basc_wSchaeferdlpfc_path, notdSchaefer_path, notdSchaefersc_path, notdSchaeferscwdlpfc_path, notdSchaeferwdlpfc_path, rest_corr_notdSchaefer_path, rest_corr_notdBasc122_path, rest_corr_notdSchaefersc_path]\n",
       "Index: []"
      ]
     },
     "execution_count": 67,
     "metadata": {},
     "output_type": "execute_result"
    }
   ],
   "source": [
    "#run correlations, drop subjects with too few TRs\n",
    "#first checks if correlation matrices already exist. To overwrite existing matrices, comment out the assertion\n",
    "model = \"notdSchaefersc\"\n",
    "excluded_scans = pd.DataFrame()\n",
    "excluded_indices = []\n",
    "from nilearn.connectome import ConnectivityMeasure\n",
    "correlation_measure = ConnectivityMeasure(kind='correlation')\n",
    "for i,row in rest_paths.iterrows():\n",
    "    tr_path = row[model+\"_path\"]\n",
    "    cm_path = row[\"rest_corr_\"+model+\"_path\"]\n",
    "    try:\n",
    "        assert(~cm_path.exists())\n",
    "        correlation_matrix = correlation_measure.fit_transform([pd.read_csv(tr_path,header=None).values])[0]\n",
    "        pd.DataFrame(correlation_matrix).to_csv(cm_path, header=None, index=False)\n",
    "    except:\n",
    "        excluded_scans = pd.concat([excluded_scans, row])\n",
    "        excluded_indices.append(i)\n",
    "rest_paths = rest_paths.drop(excluded_indices)\n",
    "print(len(rest_paths_back), len(rest_paths), len(excluded_indices))\n",
    "excluded_scans = rest_paths_back.iloc[excluded_indices]\n",
    "excluded_scans"
   ]
  },
  {
   "cell_type": "code",
   "execution_count": 56,
   "id": "f0c06258",
   "metadata": {},
   "outputs": [],
   "source": [
    "rest_paths.to_csv(project_root / 'references' / 'rest_df.csv',index=False)"
   ]
  },
  {
   "cell_type": "code",
   "execution_count": 22,
   "id": "c0381a96",
   "metadata": {},
   "outputs": [],
   "source": [
    "rest_paths_light = rest_paths[['subject','session','group']]"
   ]
  },
  {
   "cell_type": "code",
   "execution_count": 23,
   "id": "12d8b56e",
   "metadata": {},
   "outputs": [],
   "source": [
    "rest_paths_light.to_csv(project_root / 'references' / 'rest_df_v21_1_light.csv',index=False)"
   ]
  }
 ],
 "metadata": {
  "kernelspec": {
   "display_name": "Python 3 (ipykernel)",
   "language": "python",
   "name": "python3"
  },
  "language_info": {
   "codemirror_mode": {
    "name": "ipython",
    "version": 3
   },
   "file_extension": ".py",
   "mimetype": "text/x-python",
   "name": "python",
   "nbconvert_exporter": "python",
   "pygments_lexer": "ipython3",
   "version": "3.10.4"
  }
 },
 "nbformat": 4,
 "nbformat_minor": 5
}
